{
 "cells": [
  {
   "cell_type": "code",
   "execution_count": 14,
   "metadata": {},
   "outputs": [],
   "source": [
    "import pandas as pd\n",
    "import datetime\n",
    "import numpy as np\n",
    "\n",
    "\n",
    "from sklearn.preprocessing import (\n",
    "    OneHotEncoder, Binarizer, #KBinsDiscretizer,\n",
    "    MinMaxScaler,LabelEncoder#, StandardScaler, PolynomialFeatures\n",
    ")\n",
    "\n",
    "\n",
    "from sklearn.cluster import KMeans\n",
    "import seaborn as sns\n",
    "from matplotlib import pyplot as plt"
   ]
  },
  {
   "cell_type": "code",
   "execution_count": 2,
   "metadata": {},
   "outputs": [],
   "source": [
    "df1 = pd.read_csv(r'C:\\Users\\Aldo.Campos\\Documents\\Particular\\Codenation\\codenation\\estaticos_portfolio1.csv',index_col=0)\n",
    "df1['portfolio_1']=1"
   ]
  },
  {
   "cell_type": "code",
   "execution_count": 3,
   "metadata": {},
   "outputs": [],
   "source": [
    "df2 = pd.read_csv(r'C:\\Users\\Aldo.Campos\\Documents\\Particular\\Codenation\\codenation\\estaticos_portfolio2.csv',index_col=0)\n",
    "df2['portfolio_2']=2"
   ]
  },
  {
   "cell_type": "code",
   "execution_count": 4,
   "metadata": {},
   "outputs": [],
   "source": [
    "df3 = pd.read_csv(r'C:\\Users\\Aldo.Campos\\Documents\\Particular\\Codenation\\codenation\\estaticos_portfolio3.csv',index_col=0)\n",
    "df3['portfolio_3']=3"
   ]
  },
  {
   "cell_type": "code",
   "execution_count": 5,
   "metadata": {},
   "outputs": [],
   "source": [
    "df = pd.read_csv(r'C:\\Users\\Aldo.Campos\\Documents\\Particular\\Codenation\\codenation\\estaticos_market.csv',index_col=0)\n"
   ]
  },
  {
   "cell_type": "code",
   "execution_count": 8,
   "metadata": {},
   "outputs": [],
   "source": [
    "df.loc[(df['qt_socios'].isna()) & (df['de_natureza_juridica']=='EMPRESARIO INDIVIDUAL'),'qt_socios']=1\n",
    "\n",
    "df.loc[(df['qt_socios']==1) & (df['de_natureza_juridica']=='EMPRESARIO INDIVIDUAL'),'natureza_juridica_macro']='EMPRESARIO INDIVIDUAL'\n",
    "\n",
    "df.loc[(df['qt_socios']==1) & (df['de_natureza_juridica']=='EMPRESA INDIVIDUAL DE RESPONSABILIDADE LIMITADA DE NATUREZA EMPRESARIA'),'natureza_juridica_macro']='EMPRESARIO INDIVIDUAL'\n",
    "\n",
    "df.loc[(df['qt_socios']==1) & (df['de_natureza_juridica']=='EMPRESA INDIVIDUAL DE RESPONSABILIDADE LIMITADA DE NATUREZA SIMPLES'),'natureza_juridica_macro']='EMPRESARIO INDIVIDUAL'"
   ]
  },
  {
   "cell_type": "code",
   "execution_count": 9,
   "metadata": {},
   "outputs": [],
   "source": [
    "df_estimacao_faturamento = df.groupby(['de_ramo','de_natureza_juridica','sg_uf','de_saude_tributaria']).agg({'vl_faturamento_estimado_aux':'mean'}).reset_index()\n",
    "df_estimacao_faturamento2 = df.groupby(['de_ramo','de_natureza_juridica','sg_uf']).agg({'vl_faturamento_estimado_aux':'mean'}).reset_index()\n",
    "df_final = df.merge(df_estimacao_faturamento,how='left',on=['de_ramo','de_natureza_juridica','sg_uf','de_saude_tributaria'],suffixes=('','_media'))\n",
    "df_final['vl_faturamento_estimado_aux_preenchido'] = df_final['vl_faturamento_estimado_aux'].mask(pd.isnull,df_final['vl_faturamento_estimado_aux_media'])\n",
    "\n",
    "df_final = df_final.merge(df_estimacao_faturamento2,how='left',on=['de_ramo','de_natureza_juridica','sg_uf'],suffixes=('','_media2'))\n",
    "#df_final['vl_faturamento_estimado_aux_preenchido'] = df_final['vl_faturamento_estimado_aux'].mask(pd.isnull,df_final['vl_faturamento_estimado_aux_media'])\n",
    "df_final = df_final[['id','sg_uf','qt_filiais', 'fl_rm', 'fl_telefone', 'fl_email', 'fl_st_especial', \n",
    "   'idade_empresa_anos', 'de_ramo',\n",
    "   'de_natureza_juridica', 'fl_matriz', #'dt_situacao',\n",
    "   'vl_total_veiculos_leves_grupo', 'vl_total_veiculos_pesados_grupo', 'fl_veiculo', 'fl_spa', 'nm_segmento', \n",
    "   'nm_divisao', 'setor', 'de_saude_tributaria', \n",
    "   'vl_faturamento_estimado_aux',\n",
    "   'qt_socios', \n",
    "   'empsetorcensitariofaixarendapopulacao']]"
   ]
  },
  {
   "cell_type": "code",
   "execution_count": 10,
   "metadata": {},
   "outputs": [],
   "source": [
    "df_final['qt_socios'] = df_final['qt_socios'].fillna(df[df['qt_socios']>1]['qt_socios'].mean()) \n",
    "df_final['empsetorcensitariofaixarendapopulacao'] = df_final['empsetorcensitariofaixarendapopulacao'].fillna(df_final['empsetorcensitariofaixarendapopulacao'].mean())\n",
    "df_final['vl_faturamento_estimado_aux'] = df_final['vl_faturamento_estimado_aux'].fillna(df_final['vl_faturamento_estimado_aux'].mean())\n",
    "df_final['vl_total_veiculos_leves_grupo'] = df_final['vl_total_veiculos_leves_grupo'].fillna(df_final['vl_total_veiculos_leves_grupo'].mean())\n",
    "df_final['vl_total_veiculos_pesados_grupo'] = df_final['vl_total_veiculos_pesados_grupo'].fillna(df_final['vl_total_veiculos_pesados_grupo'].mean())\n",
    "#df_final['de_saude_tributaria'] = df_final['de_saude_tributaria'].fillna('LARANJA')\n",
    "\n",
    "#df_final.loc[(df_final['fl_veiculo'].isna()) & (df_final['vl_total_veiculos_pesados_grupo']>0),'fl_veiculo']=True\n",
    "\n",
    "df_final['nm_segmento'] = df_final['nm_segmento'].fillna('OUTROS')\n",
    "df_final['nm_divisao'] = df_final['nm_divisao'].fillna('OUTROS')\n",
    "df_final['setor'] = df_final['setor'].fillna('OUTROS')\n",
    "\n",
    "df_final['fl_spa'] = df_final['fl_spa'].fillna(False)"
   ]
  },
  {
   "cell_type": "code",
   "execution_count": 17,
   "metadata": {},
   "outputs": [
    {
     "data": {
      "text/plain": [
       "id                                       462298\n",
       "sg_uf                                    462298\n",
       "qt_filiais                               462298\n",
       "fl_rm                                    462298\n",
       "fl_telefone                              462298\n",
       "fl_email                                 462298\n",
       "fl_st_especial                           462298\n",
       "idade_empresa_anos                       462298\n",
       "de_ramo                                  462298\n",
       "de_natureza_juridica                     462298\n",
       "fl_matriz                                462298\n",
       "vl_total_veiculos_leves_grupo            462298\n",
       "vl_total_veiculos_pesados_grupo          462298\n",
       "fl_veiculo                               462298\n",
       "fl_spa                                   462298\n",
       "nm_segmento                              462298\n",
       "nm_divisao                               462298\n",
       "setor                                    462298\n",
       "de_saude_tributaria                      462298\n",
       "vl_faturamento_estimado_aux              462298\n",
       "qt_socios                                462298\n",
       "empsetorcensitariofaixarendapopulacao    462298\n",
       "dtype: int64"
      ]
     },
     "execution_count": 17,
     "metadata": {},
     "output_type": "execute_result"
    }
   ],
   "source": [
    "le = LabelEncoder()\n",
    "le.fit(df_final['fl_email'])\n",
    "le.classes_\n",
    "df_final['fl_email'] = le.transform(df_final['fl_email'])\n",
    "\n",
    "le = LabelEncoder()\n",
    "le.fit(df_final['fl_rm'])\n",
    "le.classes_\n",
    "df_final['fl_rm'] = le.transform(df_final['fl_rm'])\n",
    "\n",
    "le = LabelEncoder()\n",
    "le.fit(df_final['fl_telefone'])\n",
    "le.classes_\n",
    "df_final['fl_telefone'] = le.transform(df_final['fl_telefone'])\n",
    "\n",
    "le = LabelEncoder()\n",
    "le.fit(df_final['fl_st_especial'])\n",
    "le.classes_\n",
    "df_final['fl_st_especial'] = le.transform(df_final['fl_st_especial'])\n",
    "\n",
    "le = LabelEncoder()\n",
    "le.fit(df_final['fl_matriz'])\n",
    "le.classes_\n",
    "df_final['fl_matriz'] = le.transform(df_final['fl_matriz'])\n",
    "\n",
    "#le = preprocessing.LabelEncoder()\n",
    "#le.fit(df_final['fl_veiculo'])\n",
    "#le.classes_\n",
    "#df_final['fl_veiculo'] = le.transform(df_final['fl_veiculo'])\n",
    "\n",
    "le = LabelEncoder()\n",
    "le.fit(df_final['fl_spa'])\n",
    "le.classes_\n",
    "df_final['fl_spa'] = le.transform(df_final['fl_spa'])\n",
    "\n",
    "df_final.count()"
   ]
  },
  {
   "cell_type": "code",
   "execution_count": 18,
   "metadata": {},
   "outputs": [
    {
     "data": {
      "text/plain": [
       "id                                       462298\n",
       "qt_filiais                               462298\n",
       "fl_rm                                    462298\n",
       "fl_telefone                              462298\n",
       "fl_email                                 462298\n",
       "fl_st_especial                           462298\n",
       "idade_empresa_anos                       462298\n",
       "fl_matriz                                462298\n",
       "fl_spa                                   462298\n",
       "vl_faturamento_estimado_aux              462298\n",
       "qt_socios                                462298\n",
       "empsetorcensitariofaixarendapopulacao    462298\n",
       "AC                                       462298\n",
       "AM                                       462298\n",
       "MA                                       462298\n",
       "PI                                       462298\n",
       "RN                                       462298\n",
       "RO                                       462298\n",
       "AGROPECUARIA                             462298\n",
       "COMERCIO                                 462298\n",
       "CONSTRUÇÃO CIVIL                         462298\n",
       "INDUSTRIA                                462298\n",
       "OUTROS                                   462298\n",
       "SERVIÇO                                  462298\n",
       "AGROPECUARIA                             462298\n",
       "COMERCIO                                 462298\n",
       "CONSTRUÇÃO CIVIL                         462298\n",
       "INDUSTRIA                                462298\n",
       "OUTROS                                   462298\n",
       "SERVIÇO                                  462298\n",
       "dtype: int64"
      ]
     },
     "execution_count": 18,
     "metadata": {},
     "output_type": "execute_result"
    }
   ],
   "source": [
    "one_hot_encoder = OneHotEncoder(sparse=False, dtype=np.int)\n",
    "course_encoded = one_hot_encoder.fit_transform(df_final[[\"sg_uf\"]])\n",
    "columns_encoded = one_hot_encoder.categories_[0]\n",
    "\n",
    "data_encoded = pd.concat([df_final, pd.DataFrame(course_encoded, columns=columns_encoded)], axis=1)\n",
    "\n",
    "one_hot_encoder = OneHotEncoder(sparse=False, dtype=np.int)\n",
    "course_encoded = one_hot_encoder.fit_transform(df_final[[\"setor\"]])\n",
    "columns_encoded = one_hot_encoder.categories_[0]\n",
    "\n",
    "data_encoded = pd.concat([data_encoded, pd.DataFrame(course_encoded, columns=columns_encoded)], axis=1)\n",
    "\n",
    "\n",
    "#one_hot_encoder = OneHotEncoder(sparse=False, dtype=np.int)\n",
    "#course_encoded = one_hot_encoder.fit_transform(df_final[[\"de_saude_tributaria\"]])\n",
    "#columns_encoded = one_hot_encoder.categories_[0]\n",
    "\n",
    "data_encoded = pd.concat([data_encoded, pd.DataFrame(course_encoded, columns=columns_encoded)], axis=1)\n",
    "\n",
    "\n",
    "data_encoded.drop(columns=['sg_uf', 'setor','de_saude_tributaria','de_ramo','de_natureza_juridica','nm_divisao','nm_segmento'],inplace=True)\n",
    "\n",
    "data_encoded.drop(columns=['fl_veiculo','vl_total_veiculos_leves_grupo','vl_total_veiculos_pesados_grupo'],inplace=True)\n",
    "\n",
    "\n",
    "data_encoded.count()"
   ]
  },
  {
   "cell_type": "markdown",
   "metadata": {},
   "source": [
    "# Normalizar os dados"
   ]
  },
  {
   "cell_type": "code",
   "execution_count": 19,
   "metadata": {
    "scrolled": true
   },
   "outputs": [],
   "source": [
    "data_encoded.set_index('id',inplace=True)\n"
   ]
  },
  {
   "cell_type": "code",
   "execution_count": 20,
   "metadata": {},
   "outputs": [
    {
     "data": {
      "text/html": [
       "<div>\n",
       "<style scoped>\n",
       "    .dataframe tbody tr th:only-of-type {\n",
       "        vertical-align: middle;\n",
       "    }\n",
       "\n",
       "    .dataframe tbody tr th {\n",
       "        vertical-align: top;\n",
       "    }\n",
       "\n",
       "    .dataframe thead th {\n",
       "        text-align: right;\n",
       "    }\n",
       "</style>\n",
       "<table border=\"1\" class=\"dataframe\">\n",
       "  <thead>\n",
       "    <tr style=\"text-align: right;\">\n",
       "      <th></th>\n",
       "      <th>qt_filiais</th>\n",
       "      <th>fl_rm</th>\n",
       "      <th>fl_telefone</th>\n",
       "      <th>fl_email</th>\n",
       "      <th>fl_st_especial</th>\n",
       "      <th>idade_empresa_anos</th>\n",
       "      <th>fl_matriz</th>\n",
       "      <th>fl_spa</th>\n",
       "      <th>vl_faturamento_estimado_aux</th>\n",
       "      <th>qt_socios</th>\n",
       "      <th>...</th>\n",
       "      <th>CONSTRUÇÃO CIVIL</th>\n",
       "      <th>INDUSTRIA</th>\n",
       "      <th>OUTROS</th>\n",
       "      <th>SERVIÇO</th>\n",
       "      <th>AGROPECUARIA</th>\n",
       "      <th>COMERCIO</th>\n",
       "      <th>CONSTRUÇÃO CIVIL</th>\n",
       "      <th>INDUSTRIA</th>\n",
       "      <th>OUTROS</th>\n",
       "      <th>SERVIÇO</th>\n",
       "    </tr>\n",
       "    <tr>\n",
       "      <th>id</th>\n",
       "      <th></th>\n",
       "      <th></th>\n",
       "      <th></th>\n",
       "      <th></th>\n",
       "      <th></th>\n",
       "      <th></th>\n",
       "      <th></th>\n",
       "      <th></th>\n",
       "      <th></th>\n",
       "      <th></th>\n",
       "      <th></th>\n",
       "      <th></th>\n",
       "      <th></th>\n",
       "      <th></th>\n",
       "      <th></th>\n",
       "      <th></th>\n",
       "      <th></th>\n",
       "      <th></th>\n",
       "      <th></th>\n",
       "      <th></th>\n",
       "      <th></th>\n",
       "    </tr>\n",
       "  </thead>\n",
       "  <tbody>\n",
       "    <tr>\n",
       "      <th>a6984c3ae395090e3bee8ad63c3758b110de096d5d819583a784a113726db849</th>\n",
       "      <td>0.0</td>\n",
       "      <td>1.0</td>\n",
       "      <td>1.0</td>\n",
       "      <td>1.0</td>\n",
       "      <td>0.0</td>\n",
       "      <td>0.135704</td>\n",
       "      <td>1.0</td>\n",
       "      <td>0.0</td>\n",
       "      <td>0.000215</td>\n",
       "      <td>0.004082</td>\n",
       "      <td>...</td>\n",
       "      <td>1.0</td>\n",
       "      <td>0.0</td>\n",
       "      <td>0.0</td>\n",
       "      <td>0.0</td>\n",
       "      <td>0.0</td>\n",
       "      <td>0.0</td>\n",
       "      <td>1.0</td>\n",
       "      <td>0.0</td>\n",
       "      <td>0.0</td>\n",
       "      <td>0.0</td>\n",
       "    </tr>\n",
       "    <tr>\n",
       "      <th>6178f41ade1365e44bc2c46654c2c8c0eaae27dcb476c47fdef50b33f4f56f05</th>\n",
       "      <td>0.0</td>\n",
       "      <td>1.0</td>\n",
       "      <td>1.0</td>\n",
       "      <td>1.0</td>\n",
       "      <td>0.0</td>\n",
       "      <td>0.013594</td>\n",
       "      <td>1.0</td>\n",
       "      <td>0.0</td>\n",
       "      <td>0.000014</td>\n",
       "      <td>0.000000</td>\n",
       "      <td>...</td>\n",
       "      <td>0.0</td>\n",
       "      <td>0.0</td>\n",
       "      <td>0.0</td>\n",
       "      <td>1.0</td>\n",
       "      <td>0.0</td>\n",
       "      <td>0.0</td>\n",
       "      <td>0.0</td>\n",
       "      <td>0.0</td>\n",
       "      <td>0.0</td>\n",
       "      <td>1.0</td>\n",
       "    </tr>\n",
       "  </tbody>\n",
       "</table>\n",
       "<p>2 rows × 29 columns</p>\n",
       "</div>"
      ],
      "text/plain": [
       "                                                    qt_filiais  fl_rm  \\\n",
       "id                                                                      \n",
       "a6984c3ae395090e3bee8ad63c3758b110de096d5d81958...         0.0    1.0   \n",
       "6178f41ade1365e44bc2c46654c2c8c0eaae27dcb476c47...         0.0    1.0   \n",
       "\n",
       "                                                    fl_telefone  fl_email  \\\n",
       "id                                                                          \n",
       "a6984c3ae395090e3bee8ad63c3758b110de096d5d81958...          1.0       1.0   \n",
       "6178f41ade1365e44bc2c46654c2c8c0eaae27dcb476c47...          1.0       1.0   \n",
       "\n",
       "                                                    fl_st_especial  \\\n",
       "id                                                                   \n",
       "a6984c3ae395090e3bee8ad63c3758b110de096d5d81958...             0.0   \n",
       "6178f41ade1365e44bc2c46654c2c8c0eaae27dcb476c47...             0.0   \n",
       "\n",
       "                                                    idade_empresa_anos  \\\n",
       "id                                                                       \n",
       "a6984c3ae395090e3bee8ad63c3758b110de096d5d81958...            0.135704   \n",
       "6178f41ade1365e44bc2c46654c2c8c0eaae27dcb476c47...            0.013594   \n",
       "\n",
       "                                                    fl_matriz  fl_spa  \\\n",
       "id                                                                      \n",
       "a6984c3ae395090e3bee8ad63c3758b110de096d5d81958...        1.0     0.0   \n",
       "6178f41ade1365e44bc2c46654c2c8c0eaae27dcb476c47...        1.0     0.0   \n",
       "\n",
       "                                                    vl_faturamento_estimado_aux  \\\n",
       "id                                                                                \n",
       "a6984c3ae395090e3bee8ad63c3758b110de096d5d81958...                     0.000215   \n",
       "6178f41ade1365e44bc2c46654c2c8c0eaae27dcb476c47...                     0.000014   \n",
       "\n",
       "                                                    qt_socios   ...     \\\n",
       "id                                                              ...      \n",
       "a6984c3ae395090e3bee8ad63c3758b110de096d5d81958...   0.004082   ...      \n",
       "6178f41ade1365e44bc2c46654c2c8c0eaae27dcb476c47...   0.000000   ...      \n",
       "\n",
       "                                                    CONSTRUÇÃO CIVIL  \\\n",
       "id                                                                     \n",
       "a6984c3ae395090e3bee8ad63c3758b110de096d5d81958...               1.0   \n",
       "6178f41ade1365e44bc2c46654c2c8c0eaae27dcb476c47...               0.0   \n",
       "\n",
       "                                                    INDUSTRIA  OUTROS  \\\n",
       "id                                                                      \n",
       "a6984c3ae395090e3bee8ad63c3758b110de096d5d81958...        0.0     0.0   \n",
       "6178f41ade1365e44bc2c46654c2c8c0eaae27dcb476c47...        0.0     0.0   \n",
       "\n",
       "                                                    SERVIÇO  AGROPECUARIA  \\\n",
       "id                                                                          \n",
       "a6984c3ae395090e3bee8ad63c3758b110de096d5d81958...      0.0           0.0   \n",
       "6178f41ade1365e44bc2c46654c2c8c0eaae27dcb476c47...      1.0           0.0   \n",
       "\n",
       "                                                    COMERCIO  \\\n",
       "id                                                             \n",
       "a6984c3ae395090e3bee8ad63c3758b110de096d5d81958...       0.0   \n",
       "6178f41ade1365e44bc2c46654c2c8c0eaae27dcb476c47...       0.0   \n",
       "\n",
       "                                                    CONSTRUÇÃO CIVIL  \\\n",
       "id                                                                     \n",
       "a6984c3ae395090e3bee8ad63c3758b110de096d5d81958...               1.0   \n",
       "6178f41ade1365e44bc2c46654c2c8c0eaae27dcb476c47...               0.0   \n",
       "\n",
       "                                                    INDUSTRIA  OUTROS  SERVIÇO  \n",
       "id                                                                              \n",
       "a6984c3ae395090e3bee8ad63c3758b110de096d5d81958...        0.0     0.0      0.0  \n",
       "6178f41ade1365e44bc2c46654c2c8c0eaae27dcb476c47...        0.0     0.0      1.0  \n",
       "\n",
       "[2 rows x 29 columns]"
      ]
     },
     "execution_count": 20,
     "metadata": {},
     "output_type": "execute_result"
    }
   ],
   "source": [
    "scaler = MinMaxScaler(feature_range=(0, 1))\n",
    "data_encoded_normalized = pd.DataFrame(scaler.fit_transform(data_encoded.values), columns=data_encoded.columns, index=data_encoded.index)\n",
    "data_encoded_normalized.head(2)"
   ]
  },
  {
   "cell_type": "markdown",
   "metadata": {},
   "source": [
    "# Elbow method"
   ]
  },
  {
   "cell_type": "code",
   "execution_count": 33,
   "metadata": {
    "scrolled": true
   },
   "outputs": [
    {
     "data": {
      "image/png": "[encoded data removed]",
      "text/plain": [
       "<Figure size 432x288 with 1 Axes>"
      ]
     },
     "metadata": {
      "needs_background": "light"
     },
     "output_type": "display_data"
    }
   ],
   "source": [
    "# Definir a quantidade de clusters através do método do cotovelo\n",
    "import datetime\n",
    "\n",
    "sse = {}\n",
    "\n",
    "for k in range(1, 10):\n",
    "    #print(k)\n",
    "    #print(datetime.datetime.now())\n",
    "    kmeans = KMeans(n_clusters=k, random_state=1)\n",
    "    kmeans.fit(data_encoded_normalized)\n",
    "    sse[k] = kmeans.inertia_ \n",
    "plt.title('The Elbow Method')\n",
    "plt.xlabel('k'); plt.ylabel('SSE')\n",
    "sns.pointplot(x=list(sse.keys()), y=list(sse.values()))\n",
    "plt.show()"
   ]
  },
  {
   "cell_type": "code",
   "execution_count": 53,
   "metadata": {},
   "outputs": [
    {
     "data": {
      "text/html": [
       "<div>\n",
       "<style scoped>\n",
       "    .dataframe tbody tr th:only-of-type {\n",
       "        vertical-align: middle;\n",
       "    }\n",
       "\n",
       "    .dataframe tbody tr th {\n",
       "        vertical-align: top;\n",
       "    }\n",
       "\n",
       "    .dataframe thead th {\n",
       "        text-align: right;\n",
       "    }\n",
       "</style>\n",
       "<table border=\"1\" class=\"dataframe\">\n",
       "  <thead>\n",
       "    <tr style=\"text-align: right;\">\n",
       "      <th></th>\n",
       "      <th>id</th>\n",
       "      <th>qt_filiais</th>\n",
       "      <th>fl_rm</th>\n",
       "      <th>fl_telefone</th>\n",
       "      <th>fl_email</th>\n",
       "      <th>fl_st_especial</th>\n",
       "      <th>idade_empresa_anos</th>\n",
       "      <th>fl_matriz</th>\n",
       "      <th>fl_spa</th>\n",
       "      <th>vl_faturamento_estimado_aux</th>\n",
       "      <th>...</th>\n",
       "      <th>AGROPECUARIA</th>\n",
       "      <th>COMERCIO</th>\n",
       "      <th>CONSTRUÇÃO CIVIL</th>\n",
       "      <th>INDUSTRIA</th>\n",
       "      <th>OUTROS</th>\n",
       "      <th>SERVIÇO</th>\n",
       "      <th>CLUSTER</th>\n",
       "      <th>portfolio_1</th>\n",
       "      <th>portfolio_2</th>\n",
       "      <th>portfolio_3</th>\n",
       "    </tr>\n",
       "  </thead>\n",
       "  <tbody>\n",
       "    <tr>\n",
       "      <th>0</th>\n",
       "      <td>a6984c3ae395090e3bee8ad63c3758b110de096d5d8195...</td>\n",
       "      <td>0.0</td>\n",
       "      <td>1.0</td>\n",
       "      <td>1.0</td>\n",
       "      <td>1.0</td>\n",
       "      <td>0.0</td>\n",
       "      <td>0.135704</td>\n",
       "      <td>1.0</td>\n",
       "      <td>0.0</td>\n",
       "      <td>0.000215</td>\n",
       "      <td>...</td>\n",
       "      <td>0.0</td>\n",
       "      <td>0.0</td>\n",
       "      <td>1.0</td>\n",
       "      <td>0.0</td>\n",
       "      <td>0.0</td>\n",
       "      <td>0.0</td>\n",
       "      <td>2</td>\n",
       "      <td>NaN</td>\n",
       "      <td>NaN</td>\n",
       "      <td>NaN</td>\n",
       "    </tr>\n",
       "    <tr>\n",
       "      <th>1</th>\n",
       "      <td>6178f41ade1365e44bc2c46654c2c8c0eaae27dcb476c4...</td>\n",
       "      <td>0.0</td>\n",
       "      <td>1.0</td>\n",
       "      <td>1.0</td>\n",
       "      <td>1.0</td>\n",
       "      <td>0.0</td>\n",
       "      <td>0.013594</td>\n",
       "      <td>1.0</td>\n",
       "      <td>0.0</td>\n",
       "      <td>0.000014</td>\n",
       "      <td>...</td>\n",
       "      <td>0.0</td>\n",
       "      <td>0.0</td>\n",
       "      <td>0.0</td>\n",
       "      <td>0.0</td>\n",
       "      <td>0.0</td>\n",
       "      <td>1.0</td>\n",
       "      <td>2</td>\n",
       "      <td>NaN</td>\n",
       "      <td>NaN</td>\n",
       "      <td>NaN</td>\n",
       "    </tr>\n",
       "    <tr>\n",
       "      <th>2</th>\n",
       "      <td>4a7e5069a397f12fdd7fd57111d6dc5d3ba558958efc02...</td>\n",
       "      <td>0.0</td>\n",
       "      <td>1.0</td>\n",
       "      <td>1.0</td>\n",
       "      <td>0.0</td>\n",
       "      <td>0.0</td>\n",
       "      <td>0.066500</td>\n",
       "      <td>1.0</td>\n",
       "      <td>0.0</td>\n",
       "      <td>0.000003</td>\n",
       "      <td>...</td>\n",
       "      <td>0.0</td>\n",
       "      <td>0.0</td>\n",
       "      <td>0.0</td>\n",
       "      <td>0.0</td>\n",
       "      <td>0.0</td>\n",
       "      <td>1.0</td>\n",
       "      <td>0</td>\n",
       "      <td>NaN</td>\n",
       "      <td>NaN</td>\n",
       "      <td>NaN</td>\n",
       "    </tr>\n",
       "  </tbody>\n",
       "</table>\n",
       "<p>3 rows × 34 columns</p>\n",
       "</div>"
      ],
      "text/plain": [
       "                                                  id  qt_filiais  fl_rm  \\\n",
       "0  a6984c3ae395090e3bee8ad63c3758b110de096d5d8195...         0.0    1.0   \n",
       "1  6178f41ade1365e44bc2c46654c2c8c0eaae27dcb476c4...         0.0    1.0   \n",
       "2  4a7e5069a397f12fdd7fd57111d6dc5d3ba558958efc02...         0.0    1.0   \n",
       "\n",
       "   fl_telefone  fl_email  fl_st_especial  idade_empresa_anos  fl_matriz  \\\n",
       "0          1.0       1.0             0.0            0.135704        1.0   \n",
       "1          1.0       1.0             0.0            0.013594        1.0   \n",
       "2          1.0       0.0             0.0            0.066500        1.0   \n",
       "\n",
       "   fl_spa  vl_faturamento_estimado_aux     ...       AGROPECUARIA  COMERCIO  \\\n",
       "0     0.0                     0.000215     ...                0.0       0.0   \n",
       "1     0.0                     0.000014     ...                0.0       0.0   \n",
       "2     0.0                     0.000003     ...                0.0       0.0   \n",
       "\n",
       "   CONSTRUÇÃO CIVIL  INDUSTRIA  OUTROS  SERVIÇO  CLUSTER  portfolio_1  \\\n",
       "0               1.0        0.0     0.0      0.0        2          NaN   \n",
       "1               0.0        0.0     0.0      1.0        2          NaN   \n",
       "2               0.0        0.0     0.0      1.0        0          NaN   \n",
       "\n",
       "   portfolio_2  portfolio_3  \n",
       "0          NaN          NaN  \n",
       "1          NaN          NaN  \n",
       "2          NaN          NaN  \n",
       "\n",
       "[3 rows x 34 columns]"
      ]
     },
     "execution_count": 53,
     "metadata": {},
     "output_type": "execute_result"
    }
   ],
   "source": [
    "k=3\n",
    "\n",
    "kmeans = KMeans(n_clusters=k, random_state=1).fit(data_encoded_normalized)\n",
    "data_encoded_normalized['CLUSTER'] = kmeans.labels_\n",
    "\n",
    "#data_encoded_normalized = data_encoded_normalized.reset_index()\n",
    "data_encoded_normalized_final = data_encoded_normalized\n",
    "\n",
    "data_encoded_normalized_final = data_encoded_normalized_final.merge(df1[['id','portfolio_1']],on=['id'],how='left',suffixes=('','_1'))\n",
    "data_encoded_normalized_final.head(3)\n",
    "\n",
    "data_encoded_normalized_final = data_encoded_normalized_final.merge(df2[['id','portfolio_2']],on=['id'],how='left',suffixes=('_1','_2'))\n",
    "data_encoded_normalized_final.head(3)\n",
    "\n",
    "data_encoded_normalized_final = data_encoded_normalized_final.merge(df3[['id','portfolio_3']],on=['id'],how='left',suffixes=('','_3'))\n",
    "data_encoded_normalized_final.head(3)"
   ]
  },
  {
   "cell_type": "code",
   "execution_count": 54,
   "metadata": {},
   "outputs": [
    {
     "data": {
      "text/plain": [
       "CLUSTER\n",
       "0     99704\n",
       "1    211224\n",
       "2    151370\n",
       "Name: id, dtype: int64"
      ]
     },
     "execution_count": 54,
     "metadata": {},
     "output_type": "execute_result"
    }
   ],
   "source": [
    "data_encoded_normalized_final.groupby(['CLUSTER'])['id'].count()"
   ]
  },
  {
   "cell_type": "code",
   "execution_count": 55,
   "metadata": {},
   "outputs": [
    {
     "data": {
      "text/plain": [
       "portfolio_1  CLUSTER\n",
       "1.0          0            3\n",
       "             1          496\n",
       "             2           56\n",
       "Name: id, dtype: int64"
      ]
     },
     "execution_count": 55,
     "metadata": {},
     "output_type": "execute_result"
    }
   ],
   "source": [
    "data_encoded_normalized_final.groupby(['portfolio_1','CLUSTER'])['id'].count()"
   ]
  },
  {
   "cell_type": "code",
   "execution_count": 56,
   "metadata": {},
   "outputs": [
    {
     "data": {
      "text/plain": [
       "portfolio_2  CLUSTER\n",
       "2.0          0          204\n",
       "             1          107\n",
       "             2          255\n",
       "Name: id, dtype: int64"
      ]
     },
     "execution_count": 56,
     "metadata": {},
     "output_type": "execute_result"
    }
   ],
   "source": [
    "data_encoded_normalized_final.groupby(['portfolio_2','CLUSTER'])['id'].count()"
   ]
  },
  {
   "cell_type": "code",
   "execution_count": 57,
   "metadata": {},
   "outputs": [
    {
     "data": {
      "text/plain": [
       "portfolio_3  CLUSTER\n",
       "3.0          0          147\n",
       "             2          118\n",
       "Name: id, dtype: int64"
      ]
     },
     "execution_count": 57,
     "metadata": {},
     "output_type": "execute_result"
    }
   ],
   "source": [
    "data_encoded_normalized_final.groupby(['portfolio_3','CLUSTER'])['id'].count()"
   ]
  },
  {
   "cell_type": "code",
   "execution_count": 60,
   "metadata": {
    "scrolled": true
   },
   "outputs": [],
   "source": [
    "data_encoded_normalized_final[['id','CLUSTER']].to_csv('banco_dados.csv')"
   ]
  }
 ],
 "metadata": {
  "kernelspec": {
   "display_name": "Python 3",
   "language": "python",
   "name": "python3"
  },
  "language_info": {
   "codemirror_mode": {
    "name": "ipython",
    "version": 3
   },
   "file_extension": ".py",
   "mimetype": "text/x-python",
   "name": "python",
   "nbconvert_exporter": "python",
   "pygments_lexer": "ipython3",
   "version": "3.7.1"
  }
 },
 "nbformat": 4,
 "nbformat_minor": 2
}
